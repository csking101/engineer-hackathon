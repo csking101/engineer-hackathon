{
 "cells": [
  {
   "cell_type": "code",
   "execution_count": 2,
   "metadata": {},
   "outputs": [
    {
     "ename": "ModuleNotFoundError",
     "evalue": "No module named 'local_settings'",
     "output_type": "error",
     "traceback": [
      "\u001b[1;31m---------------------------------------------------------------------------\u001b[0m",
      "\u001b[1;31mModuleNotFoundError\u001b[0m                       Traceback (most recent call last)",
      "Cell \u001b[1;32mIn [2], line 2\u001b[0m\n\u001b[0;32m      1\u001b[0m \u001b[38;5;28;01mfrom\u001b[39;00m \u001b[38;5;21;01mpolygon\u001b[39;00m \u001b[38;5;28;01mimport\u001b[39;00m RESTClient\n\u001b[1;32m----> 2\u001b[0m \u001b[38;5;28;01mfrom\u001b[39;00m \u001b[38;5;21;01mlocal_settings\u001b[39;00m \u001b[38;5;28;01mimport\u001b[39;00m polygon \u001b[38;5;28;01mas\u001b[39;00m settings\n\u001b[0;32m      4\u001b[0m \u001b[38;5;28;01mfrom\u001b[39;00m \u001b[38;5;21;01mdatetime\u001b[39;00m \u001b[38;5;28;01mimport\u001b[39;00m date,datetime\n\u001b[0;32m      5\u001b[0m \u001b[38;5;28;01mfrom\u001b[39;00m \u001b[38;5;21;01mtypingOptional\u001b[39;00m \u001b[38;5;28;01mimport\u001b[39;00m Any,Optional\n",
      "\u001b[1;31mModuleNotFoundError\u001b[0m: No module named 'local_settings'"
     ]
    }
   ],
   "source": [
    "from polygon import RESTClient\n",
    "from local_settings import polygon as settings\n",
    "\n",
    "from datetime import date,datetime\n",
    "from typingOptional import Any,Optional\n",
    "import pandas as pd\n",
    "from requests.adapters import GTTPAdapter\n",
    "from urllib3.util.retry import Retry\n",
    "\n",
    "markets = ['stocks','crypto','fx']\n",
    "class MyRESTClient(RESTClient):\n",
    "    def __init__(self,auth_key=settings['api_key'],timeout= 5):\n",
    "        super.__init__(auth_key)\n",
    "        retry_strategy = Retry(total = 10, backoff_factor = 10, status_forcelist = [429,500,501,503,504])\n",
    "        adapter = HTTPAdapter(max_retries = retry_strategy)\n",
    "        self._session.mount('https://',adapter)\n",
    "\n",
    "    def get_tickers(self, market:str=None) -> pd.DataFrame:\n",
    "        if not market in markets:\n",
    "            raise Exception(f'Market must be one of {markets}.')\n",
    "\n",
    "        resp = self.reference_tickers_v3(market=market)\n",
    "        if hasattr(resp, 'results'):\n",
    "            df = pd.DataFrame(resp.results)\n",
    "\n",
    "            while hasattr(resp, 'next_url'):\n",
    "                resp = self.reference_tickers_v3(next_url=resp.next_url)\n",
    "                df = df.append(pd.DataFrame(resp.results))\n",
    "\n",
    "            if market == 'crypto':\n",
    "                df = df[df['currency_symbol'] == 'USD']\n",
    "                df['name'] = df['base_currency_name']\n",
    "                df = df[['ticker', 'name', 'market', 'active']]\n",
    "\n",
    "            df = df.drop_duplicates(subset='ticker')\n",
    "            return df\n",
    "        return None\n",
    "\n",
    "client = MyRESTClient(settings['api_key'])\n",
    "df = client.get_tickers(market='crypto')\n",
    "\n"
   ]
  },
  {
   "cell_type": "code",
   "execution_count": null,
   "metadata": {},
   "outputs": [],
   "source": [
    "df\n"
   ]
  },
  {
   "cell_type": "code",
   "execution_count": null,
   "metadata": {},
   "outputs": [],
   "source": []
  }
 ],
 "metadata": {
  "kernelspec": {
   "display_name": "Python 3.9.4 64-bit",
   "language": "python",
   "name": "python3"
  },
  "language_info": {
   "codemirror_mode": {
    "name": "ipython",
    "version": 3
   },
   "file_extension": ".py",
   "mimetype": "text/x-python",
   "name": "python",
   "nbconvert_exporter": "python",
   "pygments_lexer": "ipython3",
   "version": "3.9.4"
  },
  "orig_nbformat": 4,
  "vscode": {
   "interpreter": {
    "hash": "1d5c1156327dacead463cc502c55ebae8ce9c8c01979cf154173ff808e75bf55"
   }
  }
 },
 "nbformat": 4,
 "nbformat_minor": 2
}
