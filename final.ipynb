{
 "cells": [
  {
   "cell_type": "code",
   "execution_count": 7,
   "metadata": {},
   "outputs": [],
   "source": [
    "import datetime\n",
    "import time\n",
    "import finnhub\n",
    "import pandas as pd"
   ]
  },
  {
   "cell_type": "code",
   "execution_count": 8,
   "metadata": {},
   "outputs": [],
   "source": [
    "token = \"ccnkjn2ad3i3sjb7e72gccnkjn2ad3i3sjb7e730\"\n",
    "companies = {'apple':'AAPL','microsoft':'MSFT','google':'GOOG','amazon':'AMZN','tesla':'TSLA','meta':'META','nvidia':'NVDA'}"
   ]
  },
  {
   "cell_type": "code",
   "execution_count": 9,
   "metadata": {},
   "outputs": [],
   "source": [
    "finnhub_client = finnhub.Client(api_key=token)"
   ]
  },
  {
   "cell_type": "code",
   "execution_count": null,
   "metadata": {},
   "outputs": [],
   "source": []
  },
  {
   "cell_type": "code",
   "execution_count": 14,
   "metadata": {},
   "outputs": [
    {
     "data": {
      "text/html": [
       "<div>\n",
       "<style scoped>\n",
       "    .dataframe tbody tr th:only-of-type {\n",
       "        vertical-align: middle;\n",
       "    }\n",
       "\n",
       "    .dataframe tbody tr th {\n",
       "        vertical-align: top;\n",
       "    }\n",
       "\n",
       "    .dataframe thead th {\n",
       "        text-align: right;\n",
       "    }\n",
       "</style>\n",
       "<table border=\"1\" class=\"dataframe\">\n",
       "  <thead>\n",
       "    <tr style=\"text-align: right;\">\n",
       "      <th></th>\n",
       "      <th>Name</th>\n",
       "      <th>Country</th>\n",
       "      <th>Exchange</th>\n",
       "      <th>Outstanding Shares</th>\n",
       "      <th>Market Cap</th>\n",
       "    </tr>\n",
       "  </thead>\n",
       "  <tbody>\n",
       "    <tr>\n",
       "      <th>0</th>\n",
       "      <td>Apple Inc</td>\n",
       "      <td>US</td>\n",
       "      <td>NASDAQ NMS - GLOBAL MARKET</td>\n",
       "      <td>16070.80000</td>\n",
       "      <td>2.417523e+06</td>\n",
       "    </tr>\n",
       "    <tr>\n",
       "      <th>1</th>\n",
       "      <td>Microsoft Corp</td>\n",
       "      <td>US</td>\n",
       "      <td>NASDAQ NMS - GLOBAL MARKET</td>\n",
       "      <td>7457.89000</td>\n",
       "      <td>1.774382e+06</td>\n",
       "    </tr>\n",
       "    <tr>\n",
       "      <th>2</th>\n",
       "      <td>Alphabet Inc</td>\n",
       "      <td>US</td>\n",
       "      <td>NASDAQ NMS - GLOBAL MARKET</td>\n",
       "      <td>13046.19676</td>\n",
       "      <td>1.290873e+06</td>\n",
       "    </tr>\n",
       "    <tr>\n",
       "      <th>3</th>\n",
       "      <td>Amazon.com Inc</td>\n",
       "      <td>US</td>\n",
       "      <td>NASDAQ NMS - GLOBAL MARKET</td>\n",
       "      <td>10187.60000</td>\n",
       "      <td>1.159140e+06</td>\n",
       "    </tr>\n",
       "    <tr>\n",
       "      <th>4</th>\n",
       "      <td>Tesla Inc</td>\n",
       "      <td>US</td>\n",
       "      <td>NASDAQ NMS - GLOBAL MARKET</td>\n",
       "      <td>3133.47000</td>\n",
       "      <td>8.627383e+05</td>\n",
       "    </tr>\n",
       "    <tr>\n",
       "      <th>5</th>\n",
       "      <td>Meta Platforms Inc</td>\n",
       "      <td>US</td>\n",
       "      <td>NASDAQ NMS - GLOBAL MARKET</td>\n",
       "      <td>2687.67000</td>\n",
       "      <td>3.773761e+05</td>\n",
       "    </tr>\n",
       "    <tr>\n",
       "      <th>6</th>\n",
       "      <td>NVIDIA Corp</td>\n",
       "      <td>US</td>\n",
       "      <td>NASDAQ NMS - GLOBAL MARKET</td>\n",
       "      <td>2490.00000</td>\n",
       "      <td>3.116484e+05</td>\n",
       "    </tr>\n",
       "  </tbody>\n",
       "</table>\n",
       "</div>"
      ],
      "text/plain": [
       "                 Name Country                    Exchange  Outstanding Shares  \\\n",
       "0           Apple Inc      US  NASDAQ NMS - GLOBAL MARKET         16070.80000   \n",
       "1      Microsoft Corp      US  NASDAQ NMS - GLOBAL MARKET          7457.89000   \n",
       "2        Alphabet Inc      US  NASDAQ NMS - GLOBAL MARKET         13046.19676   \n",
       "3      Amazon.com Inc      US  NASDAQ NMS - GLOBAL MARKET         10187.60000   \n",
       "4           Tesla Inc      US  NASDAQ NMS - GLOBAL MARKET          3133.47000   \n",
       "5  Meta Platforms Inc      US  NASDAQ NMS - GLOBAL MARKET          2687.67000   \n",
       "6         NVIDIA Corp      US  NASDAQ NMS - GLOBAL MARKET          2490.00000   \n",
       "\n",
       "     Market Cap  \n",
       "0  2.417523e+06  \n",
       "1  1.774382e+06  \n",
       "2  1.290873e+06  \n",
       "3  1.159140e+06  \n",
       "4  8.627383e+05  \n",
       "5  3.773761e+05  \n",
       "6  3.116484e+05  "
      ]
     },
     "execution_count": 14,
     "metadata": {},
     "output_type": "execute_result"
    }
   ],
   "source": [
    "data = []\n",
    "for company in companies:\n",
    "    symbol = companies[company]\n",
    "\n",
    "    #Include this basic information in the visualiser\n",
    "    company_profile = finnhub_client.company_profile2(symbol=symbol)\n",
    "    name = company_profile['name']\n",
    "    country = company_profile['country']\n",
    "    exchange = company_profile['exchange']\n",
    "    currency = company_profile['currency']\n",
    "    outstanding_shares = company_profile['shareOutstanding']\n",
    "    market_capitalisation = company_profile['marketCapitalization']\n",
    "    data.append({\n",
    "    'Name':name,\n",
    "    'Country':country,\n",
    "    'Exchange':exchange,\n",
    "    'Outstanding Shares':outstanding_shares,\n",
    "    'Market Cap': market_capitalisation\n",
    "    })\n",
    "df = pd.DataFrame(data)\n",
    "df"
   ]
  },
  {
   "cell_type": "code",
   "execution_count": 25,
   "metadata": {},
   "outputs": [
    {
     "ename": "AttributeError",
     "evalue": "'TimedeltaProperties' object has no attribute 'time'",
     "output_type": "error",
     "traceback": [
      "\u001b[1;31m---------------------------------------------------------------------------\u001b[0m",
      "\u001b[1;31mAttributeError\u001b[0m                            Traceback (most recent call last)",
      "\u001b[1;32m~\\AppData\\Local\\Temp/ipykernel_5424/2518257478.py\u001b[0m in \u001b[0;36m<module>\u001b[1;34m\u001b[0m\n\u001b[0;32m     11\u001b[0m \u001b[0mcandle_stick_data\u001b[0m \u001b[1;33m=\u001b[0m \u001b[0mfinnhub_client\u001b[0m\u001b[1;33m.\u001b[0m\u001b[0mstock_candles\u001b[0m\u001b[1;33m(\u001b[0m\u001b[1;34m'AAPL'\u001b[0m\u001b[1;33m,\u001b[0m\u001b[1;34m'D'\u001b[0m\u001b[1;33m,\u001b[0m\u001b[0mstart\u001b[0m\u001b[1;33m,\u001b[0m\u001b[0mto\u001b[0m\u001b[1;33m)\u001b[0m\u001b[1;33m\u001b[0m\u001b[1;33m\u001b[0m\u001b[0m\n\u001b[0;32m     12\u001b[0m \u001b[0maapl_candle_data\u001b[0m \u001b[1;33m=\u001b[0m \u001b[0mpd\u001b[0m\u001b[1;33m.\u001b[0m\u001b[0mDataFrame\u001b[0m\u001b[1;33m(\u001b[0m\u001b[0mcandle_stick_data\u001b[0m\u001b[1;33m)\u001b[0m\u001b[1;33m\u001b[0m\u001b[1;33m\u001b[0m\u001b[0m\n\u001b[1;32m---> 13\u001b[1;33m \u001b[0maapl_candle_data\u001b[0m\u001b[1;33m[\u001b[0m\u001b[1;34m'Date'\u001b[0m\u001b[1;33m]\u001b[0m \u001b[1;33m=\u001b[0m \u001b[0maapl_candle_data\u001b[0m\u001b[1;33m[\u001b[0m\u001b[1;34m't'\u001b[0m\u001b[1;33m]\u001b[0m\u001b[1;33m.\u001b[0m\u001b[0mapply\u001b[0m\u001b[1;33m(\u001b[0m\u001b[1;32mlambda\u001b[0m \u001b[0mx\u001b[0m\u001b[1;33m:\u001b[0m\u001b[0mpd\u001b[0m\u001b[1;33m.\u001b[0m\u001b[0mTimedelta\u001b[0m\u001b[1;33m(\u001b[0m\u001b[0mseconds\u001b[0m\u001b[1;33m=\u001b[0m\u001b[0mx\u001b[0m\u001b[1;33m)\u001b[0m\u001b[1;33m)\u001b[0m\u001b[1;33m.\u001b[0m\u001b[0mdt\u001b[0m\u001b[1;33m.\u001b[0m\u001b[0mtime\u001b[0m\u001b[1;33m(\u001b[0m\u001b[1;33m)\u001b[0m\u001b[1;33m\u001b[0m\u001b[1;33m\u001b[0m\u001b[0m\n\u001b[0m\u001b[0;32m     14\u001b[0m \u001b[0maapl_candle_data\u001b[0m\u001b[1;33m\u001b[0m\u001b[1;33m\u001b[0m\u001b[0m\n",
      "\u001b[1;31mAttributeError\u001b[0m: 'TimedeltaProperties' object has no attribute 'time'"
     ]
    }
   ],
   "source": [
    "#Calculates the unix timestamps for the respective durations\n",
    "today = datetime.date.today()\n",
    "last_week = (today - datetime.timedelta(days=7)).timetuple()\n",
    "last_month = (today - datetime.timedelta(days=31)).timetuple()\n",
    "today = today.timetuple()\n",
    "\n",
    "start = time.mktime(last_week) #Change out for today,last_week,last_month based on the required interval of observation\n",
    "start = int(start)\n",
    "to = int(time.time())\n",
    "\n",
    "candle_stick_data = finnhub_client.stock_candles('AAPL','D',start,to)\n",
    "aapl_candle_data = pd.DataFrame(candle_stick_data)\n",
    "aapl_candle_data['Date'] = aapl_candle_data['t'].apply(lambda x:pd.Timedelta(seconds=x)).dt.time()\n",
    "aapl_candle_data"
   ]
  },
  {
   "cell_type": "code",
   "execution_count": null,
   "metadata": {},
   "outputs": [],
   "source": []
  }
 ],
 "metadata": {
  "kernelspec": {
   "display_name": "Python 3.8.5 32-bit",
   "language": "python",
   "name": "python3"
  },
  "language_info": {
   "codemirror_mode": {
    "name": "ipython",
    "version": 3
   },
   "file_extension": ".py",
   "mimetype": "text/x-python",
   "name": "python",
   "nbconvert_exporter": "python",
   "pygments_lexer": "ipython3",
   "version": "3.8.5"
  },
  "orig_nbformat": 4,
  "vscode": {
   "interpreter": {
    "hash": "6d1e45cadc3597bb8b6600530fbdf8c3eefe919a24ef54d9d32b318795b772e0"
   }
  }
 },
 "nbformat": 4,
 "nbformat_minor": 2
}
